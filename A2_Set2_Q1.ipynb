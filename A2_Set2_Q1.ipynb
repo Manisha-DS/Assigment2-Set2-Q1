{
  "nbformat": 4,
  "nbformat_minor": 0,
  "metadata": {
    "colab": {
      "provenance": []
    },
    "kernelspec": {
      "name": "python3",
      "display_name": "Python 3"
    },
    "language_info": {
      "name": "python"
    }
  },
  "cells": [
    {
      "cell_type": "code",
      "execution_count": 1,
      "metadata": {
        "id": "oMkZvmIvMg_5"
      },
      "outputs": [],
      "source": [
        "import numpy as np\n",
        "from scipy import stats\n",
        "from scipy.stats import norm"
      ]
    },
    {
      "cell_type": "code",
      "source": [
        "# find Z-scores at x=50, given µ=45, σ=8, z=(x-µ)/σ #\n",
        "z=(50-45)/8\n",
        "z"
      ],
      "metadata": {
        "colab": {
          "base_uri": "https://localhost:8080/"
        },
        "id": "Q-W5g2I97FRE",
        "outputId": "b995c367-7667-4048-ca7b-588ce367ac7b"
      },
      "execution_count": 5,
      "outputs": [
        {
          "output_type": "execute_result",
          "data": {
            "text/plain": [
              "0.625"
            ]
          },
          "metadata": {},
          "execution_count": 5
        }
      ]
    },
    {
      "cell_type": "code",
      "source": [
        "# find probability P(X>50) = 1-stats.norm.cdf(z-score)\n",
        "1-stats.norm.cdf(0.625)"
      ],
      "metadata": {
        "colab": {
          "base_uri": "https://localhost:8080/"
        },
        "id": "tQ0urfQ04Dlw",
        "outputId": "729d20b6-c57a-4ebc-b5de-f07a17c8eba1"
      },
      "execution_count": 8,
      "outputs": [
        {
          "output_type": "execute_result",
          "data": {
            "text/plain": [
              "0.26598552904870054"
            ]
          },
          "metadata": {},
          "execution_count": 8
        }
      ]
    },
    {
      "cell_type": "code",
      "source": [
        "# OR find probability P(X<=50); p_value=stats.norm.cdf(z-score)\n",
        "p_value=stats.norm.cdf(0.625)\n",
        "p_value"
      ],
      "metadata": {
        "colab": {
          "base_uri": "https://localhost:8080/"
        },
        "id": "K9J6Iyp_5ZSA",
        "outputId": "ad76ab94-e3cf-4512-965f-2afb3ce3e062"
      },
      "execution_count": 9,
      "outputs": [
        {
          "output_type": "execute_result",
          "data": {
            "text/plain": [
              "0.7340144709512995"
            ]
          },
          "metadata": {},
          "execution_count": 9
        }
      ]
    },
    {
      "cell_type": "code",
      "source": [
        "# P(X>50) = 1-P(X<=50)\n",
        "1-0.734"
      ],
      "metadata": {
        "colab": {
          "base_uri": "https://localhost:8080/"
        },
        "id": "LCC51LSO5trJ",
        "outputId": "d0e2f5ac-28e9-4e2c-a3c3-a8a17a65d3b3"
      },
      "execution_count": 10,
      "outputs": [
        {
          "output_type": "execute_result",
          "data": {
            "text/plain": [
              "0.266"
            ]
          },
          "metadata": {},
          "execution_count": 10
        }
      ]
    }
  ]
}